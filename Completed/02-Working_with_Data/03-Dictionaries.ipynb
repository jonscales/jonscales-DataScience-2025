{
  "cells": [
    {
      "cell_type": "markdown",
      "metadata": {
        "id": "view-in-github",
        "colab_type": "text"
      },
      "source": [
        "<a href=\"https://colab.research.google.com/github/jonscales/jonscales-DataScience-2025/blob/main/Completed/02-Working_with_Data/03-Dictionaries.ipynb\" target=\"_parent\"><img src=\"https://colab.research.google.com/assets/colab-badge.svg\" alt=\"Open In Colab\"/></a>"
      ]
    },
    {
      "cell_type": "code",
      "source": [
        "#  Jon Scales"
      ],
      "metadata": {
        "id": "Yn4fCZWHITNb"
      },
      "id": "Yn4fCZWHITNb",
      "execution_count": null,
      "outputs": []
    },
    {
      "cell_type": "markdown",
      "id": "ba110f51",
      "metadata": {
        "id": "ba110f51"
      },
      "source": [
        "# 📘 03 - Python Dictionaries\n",
        "\n",
        "Dictionaries store key-value pairs for fast lookups."
      ]
    },
    {
      "cell_type": "markdown",
      "id": "32ad5c23",
      "metadata": {
        "id": "32ad5c23"
      },
      "source": [
        "## ✅ Learning Goals\n",
        "- Create and access dictionary items\n",
        "- Use dictionary methods like `.get()` and `.items()`"
      ]
    },
    {
      "cell_type": "code",
      "execution_count": null,
      "id": "d69a5483",
      "metadata": {
        "id": "d69a5483"
      },
      "outputs": [],
      "source": [
        "# 📚 Create a Dictionary\n",
        "student = {'name': 'Alex', 'age': 21, 'major': 'CS'}\n",
        "print(student)"
      ]
    },
    {
      "cell_type": "code",
      "execution_count": null,
      "id": "c014213d",
      "metadata": {
        "id": "c014213d"
      },
      "outputs": [],
      "source": [
        "# 🔍 Access Values\n",
        "print(student['name'])\n",
        "print(student.get('gpa', 'N/A'))"
      ]
    },
    {
      "cell_type": "code",
      "execution_count": null,
      "id": "f80fb0b2",
      "metadata": {
        "id": "f80fb0b2"
      },
      "outputs": [],
      "source": [
        "# 🔁 Loop Over Dictionary\n",
        "for key, value in student.items():\n",
        "    print(key, '->', value)"
      ]
    },
    {
      "cell_type": "markdown",
      "id": "aa0e1c66",
      "metadata": {
        "id": "aa0e1c66"
      },
      "source": [
        "## ✏️ Your Turn\n",
        "Create a dictionary to store information about your favorite book."
      ]
    },
    {
      "cell_type": "code",
      "source": [
        "# favorite book info\n",
        "fav_book = {'Title':\"Ender's Game\", 'Author': 'Orson Scott Card', 'Genre': 'Sci-Fi', \"Protagonist\": 'Ender Wiggin', \"Antagonist\": \"The Bugger's (a.k.a. Formics)\", 'Setting': 'Orbiting Battle School'}\n",
        "\n",
        "print(fav_book['Title'])\n",
        "print(fav_book.get('Genre', 'N/A'))\n",
        "\n",
        "for key, value in fav_book.items():\n",
        "  print(key, ' --', value)"
      ],
      "metadata": {
        "id": "nj18Fhs4INjj",
        "outputId": "fbb40595-9583-4862-88a7-a1010181d976",
        "colab": {
          "base_uri": "https://localhost:8080/"
        }
      },
      "id": "nj18Fhs4INjj",
      "execution_count": 1,
      "outputs": [
        {
          "output_type": "stream",
          "name": "stdout",
          "text": [
            "Ender's Game\n",
            "Sci-Fi\n",
            "Title  -- Ender's Game\n",
            "Author  -- Orson Scott Card\n",
            "Genre  -- Sci-Fi\n",
            "Protagonist  -- Ender Wiggin\n",
            "Antagonist  -- The Bugger's (a.k.a. Formics)\n",
            "Setting  -- Orbiting Battle School\n"
          ]
        }
      ]
    }
  ],
  "metadata": {
    "colab": {
      "provenance": [],
      "include_colab_link": true
    },
    "language_info": {
      "name": "python"
    },
    "kernelspec": {
      "name": "python3",
      "display_name": "Python 3"
    }
  },
  "nbformat": 4,
  "nbformat_minor": 5
}