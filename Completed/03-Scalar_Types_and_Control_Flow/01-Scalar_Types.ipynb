{
  "cells": [
    {
      "cell_type": "markdown",
      "id": "c224876d",
      "metadata": {
        "id": "c224876d"
      },
      "source": [
        "# 📘 01 - Scalar Types\n",
        "\n",
        "Review and practice working with Python's basic scalar data types."
      ]
    },
    {
      "cell_type": "markdown",
      "id": "39c1942a",
      "metadata": {
        "id": "39c1942a"
      },
      "source": [
        "## ✅ Learning Goals\n",
        "- Recognize scalar types (`int`, `float`, `str`, `bool`)\n",
        "- Use the `type()` function to identify types\n",
        "- Use variables and assignment"
      ]
    },
    {
      "cell_type": "code",
      "execution_count": 2,
      "id": "0cf15b63",
      "metadata": {
        "id": "0cf15b63"
      },
      "outputs": [],
      "source": [
        "# 🔧 Define some variables\n",
        "num = 42\n",
        "pi = 3.14159\n",
        "name = 'Python'\n",
        "is_cool = True"
      ]
    },
    {
      "cell_type": "code",
      "execution_count": 3,
      "id": "7c8e8452",
      "metadata": {
        "colab": {
          "base_uri": "https://localhost:8080/"
        },
        "id": "7c8e8452",
        "outputId": "1cab1d5a-287d-45cc-8442-1ce31e8d1af7"
      },
      "outputs": [
        {
          "output_type": "stream",
          "name": "stdout",
          "text": [
            "<class 'int'>\n",
            "<class 'float'>\n",
            "<class 'str'>\n",
            "<class 'bool'>\n"
          ]
        }
      ],
      "source": [
        "# 🔍 Check their types\n",
        "print(type(num))\n",
        "print(type(pi))\n",
        "print(type(name))\n",
        "print(type(is_cool))"
      ]
    },
    {
      "cell_type": "markdown",
      "id": "2c345a8b",
      "metadata": {
        "id": "2c345a8b"
      },
      "source": [
        "### ✏️ Your Turn\n",
        "Create your own variables of each type and print them."
      ]
    },
    {
      "cell_type": "code",
      "source": [
        "# Your code here\n",
        "name ='Henry'\n",
        "wives = 8\n",
        "wives_bodies = 7.5\n",
        "is_sane = False\n",
        "print(f'name = {name}')\n",
        "print(type(name))\n",
        "print(f'wives = {wives}')\n",
        "print(type(wives))\n",
        "print(f\"wives' bodies = {wives_bodies}\")\n",
        "print(type(wives_bodies))\n",
        "print(f'sanity = {is_sane}')\n",
        "print(type(is_sane))"
      ],
      "metadata": {
        "id": "Q8mjA4zaD4Ck",
        "outputId": "cbaee34e-0422-412a-9a9d-3b293b9277aa",
        "colab": {
          "base_uri": "https://localhost:8080/"
        }
      },
      "id": "Q8mjA4zaD4Ck",
      "execution_count": 10,
      "outputs": [
        {
          "output_type": "stream",
          "name": "stdout",
          "text": [
            "name = Henry\n",
            "<class 'str'>\n",
            "wives = 8\n",
            "<class 'int'>\n",
            "wives' bodies = 7.5\n",
            "<class 'float'>\n",
            "sanity = False\n",
            "<class 'bool'>\n"
          ]
        }
      ]
    },
    {
      "cell_type": "markdown",
      "id": "f02be606",
      "metadata": {
        "id": "f02be606"
      },
      "source": [
        "## ⚖️ Comparison Practice\n",
        "Use comparison operators to check values."
      ]
    },
    {
      "cell_type": "code",
      "execution_count": 11,
      "id": "9bf84dc7",
      "metadata": {
        "colab": {
          "base_uri": "https://localhost:8080/"
        },
        "id": "9bf84dc7",
        "outputId": "663fd11b-f177-4683-d7fa-2a9a952da27a"
      },
      "outputs": [
        {
          "output_type": "stream",
          "name": "stdout",
          "text": [
            "True\n",
            "False\n",
            "True\n"
          ]
        }
      ],
      "source": [
        "x = 10\n",
        "y = 5\n",
        "print(x > y)\n",
        "print(x == y)\n",
        "print(x != y)"
      ]
    },
    {
      "cell_type": "markdown",
      "id": "789b6f3d",
      "metadata": {
        "id": "789b6f3d"
      },
      "source": [
        "## 🧠 Quick Check\n",
        "What will the following print?\n",
        "```python\n",
        "print(3.0 == 3)\n",
        "```"
      ]
    },
    {
      "cell_type": "code",
      "source": [
        "print(3.0 == 3)\n",
        "print(3 == 3.0)"
      ],
      "metadata": {
        "id": "DWlDdv97EjDu",
        "outputId": "0a54124f-81dc-4577-89ae-420d36398bd6",
        "colab": {
          "base_uri": "https://localhost:8080/"
        }
      },
      "id": "DWlDdv97EjDu",
      "execution_count": 13,
      "outputs": [
        {
          "output_type": "stream",
          "name": "stdout",
          "text": [
            "True\n",
            "True\n"
          ]
        }
      ]
    }
  ],
  "metadata": {
    "colab": {
      "provenance": []
    },
    "language_info": {
      "name": "python"
    },
    "kernelspec": {
      "name": "python3",
      "display_name": "Python 3"
    }
  },
  "nbformat": 4,
  "nbformat_minor": 5
}