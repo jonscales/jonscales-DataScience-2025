{
  "cells": [
    {
      "cell_type": "markdown",
      "metadata": {
        "id": "view-in-github",
        "colab_type": "text"
      },
      "source": [
        "<a href=\"https://colab.research.google.com/github/jonscales/jonscales-DataScience-2025/blob/main/Completed/04-Loops_and_Iteration/01-For_Loops.ipynb\" target=\"_parent\"><img src=\"https://colab.research.google.com/assets/colab-badge.svg\" alt=\"Open In Colab\"/></a>"
      ]
    },
    {
      "cell_type": "markdown",
      "id": "813b2cf5",
      "metadata": {
        "id": "813b2cf5"
      },
      "source": [
        "# 📘 01 - For Loops\n",
        "\n",
        "Learn how to use `for` loops to iterate over sequences."
      ]
    },
    {
      "cell_type": "markdown",
      "id": "f6afd4b0",
      "metadata": {
        "id": "f6afd4b0"
      },
      "source": [
        "## ✅ Learning Goals\n",
        "- Use `for` with lists, strings, and `range()`\n",
        "- Understand loop variables and block structure"
      ]
    },
    {
      "cell_type": "code",
      "execution_count": null,
      "id": "16d9ab8e",
      "metadata": {
        "id": "16d9ab8e"
      },
      "outputs": [],
      "source": [
        "# 🔁 Loop over a list\n",
        "fruits = ['apple', 'banana', 'cherry']\n",
        "for fruit in fruits:\n",
        "    print(fruit)"
      ]
    },
    {
      "cell_type": "code",
      "execution_count": null,
      "id": "141bbd6b",
      "metadata": {
        "id": "141bbd6b"
      },
      "outputs": [],
      "source": [
        "# 🔁 Loop over characters in a string\n",
        "word = 'hello'\n",
        "for char in word:\n",
        "    print(char)"
      ]
    },
    {
      "cell_type": "code",
      "execution_count": null,
      "id": "76012a44",
      "metadata": {
        "id": "76012a44"
      },
      "outputs": [],
      "source": [
        "# 🔁 Using range()\n",
        "for i in range(5):\n",
        "    print(i)"
      ]
    },
    {
      "cell_type": "code",
      "execution_count": null,
      "id": "43070de7",
      "metadata": {
        "id": "43070de7"
      },
      "outputs": [],
      "source": [
        "# ➕ Loop with math\n",
        "for i in range(1, 6):\n",
        "    print(f'{i} squared is', i ** 2)"
      ]
    },
    {
      "cell_type": "markdown",
      "id": "7f3e0f91",
      "metadata": {
        "id": "7f3e0f91"
      },
      "source": [
        "### ✏️ Your Turn\n",
        "Loop over a list of 3 favorite movies and print them in all caps."
      ]
    },
    {
      "cell_type": "code",
      "source": [
        "Jons_movie_list = ['Airplane', 'Life of Brian', 'Princess Bride', 'Gladiator', 'Idiocracy']\n",
        "print(Jons_movie_list)\n",
        "print(sorted(Jons_movie_list))\n",
        "print('First 3 favorite movies:',end=\"\")\n",
        "for i in range(3):\n",
        "  print(Jons_movie_list[i].upper(), end=\", \")\n",
        "print(\" \")\n",
        "print('other favorite movies are: ', end=\"\")\n",
        "for movie in Jons_movie_list[3:]:\n",
        "  print(movie.upper(),end=\", \")"
      ],
      "metadata": {
        "id": "dQSeytisa9cN",
        "outputId": "20e0f0a4-0277-4cb9-daf5-0bcc72b086f9",
        "colab": {
          "base_uri": "https://localhost:8080/"
        }
      },
      "id": "dQSeytisa9cN",
      "execution_count": 12,
      "outputs": [
        {
          "output_type": "stream",
          "name": "stdout",
          "text": [
            "['Airplane', 'Life of Brian', 'Princess Bride', 'Gladiator', 'Idiocracy']\n",
            "['Airplane', 'Gladiator', 'Idiocracy', 'Life of Brian', 'Princess Bride']\n",
            "First 3 favorite movies:AIRPLANE, LIFE OF BRIAN, PRINCESS BRIDE,  \n",
            "other favorite movies are: GLADIATOR, IDIOCRACY, "
          ]
        }
      ]
    }
  ],
  "metadata": {
    "colab": {
      "provenance": [],
      "include_colab_link": true
    },
    "language_info": {
      "name": "python"
    },
    "kernelspec": {
      "name": "python3",
      "display_name": "Python 3"
    }
  },
  "nbformat": 4,
  "nbformat_minor": 5
}